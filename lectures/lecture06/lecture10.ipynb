{
 "cells": [
  {
   "cell_type": "markdown",
   "metadata": {},
   "source": [
    "![logo](https://www.python.org/static/community_logos/python-logo-master-v3-TM.png)\n",
    "\n",
    "# Python is a powerful, expressive, and easy to learn programming language. It is widely used in computational biology. There are a wealth of packages (numpy, scipy, pandas, statsmodels, scikit-learn) for data analysis in python. So it's **totally** worth learning!\n",
    "\n",
    "[Official python tutorial](https://docs.python.org/3/tutorial/)\n",
    "\n",
    "\n",
    "As we work through this notebook, you might want to open up a second one for trying things out. You can also fiddle with the code here.\n",
    "\n",
    "Here are a few tips for working with notebooks:\n",
    "\n",
    "* There are two modes: *command mode* and *edit mode*. \n",
    "* In edit mode you can edit the contents of individual cells. The selected cell is marked by a green border. \n",
    "* In command mode you can move up and down between cells, add and delete cells, switch a cell's *type* between code and markdown, etc. \n",
    "* To enter command mode, hit `Esc` (the Escape key).\n",
    "* to enter edit mode with the selected cell (the one with the blue border), hit `Enter`. The border color will change to green.\n",
    "* To run (execute) a cell (or selected cells), type `Ctrl-Enter`. `Shift-Enter` will run the current cell and select the next one.\n",
    "* To see the other keyboard shortcuts, click on the `Help` menu.\n",
    "* If you get stuck executing an infinite loop, choose `Interrupt` from the `Kernel` menu. \n"
   ]
  },
  {
   "cell_type": "markdown",
   "metadata": {},
   "source": [
    "# numeric types (int, float, complex)"
   ]
  },
  {
   "cell_type": "code",
   "execution_count": null,
   "metadata": {},
   "outputs": [],
   "source": [
    "a = 4\n",
    "type(a)"
   ]
  },
  {
   "cell_type": "code",
   "execution_count": null,
   "metadata": {},
   "outputs": [],
   "source": [
    "# Comments begin with the '#' symbol\n",
    "a+7"
   ]
  },
  {
   "cell_type": "code",
   "execution_count": null,
   "metadata": {},
   "outputs": [],
   "source": [
    "a = 4\n",
    "a += 3 # += adds the value (or thing) on the left to the variable on the right\n",
    "print(a)"
   ]
  },
  {
   "cell_type": "code",
   "execution_count": null,
   "metadata": {},
   "outputs": [],
   "source": [
    "b = 3.5\n",
    "type(b)"
   ]
  },
  {
   "cell_type": "code",
   "execution_count": null,
   "metadata": {},
   "outputs": [],
   "source": [
    "a/3 # In python 3, integer division returns floats rather than truncating"
   ]
  },
  {
   "cell_type": "code",
   "execution_count": null,
   "metadata": {},
   "outputs": [],
   "source": [
    "a//3 # this is what a/3 does in python2: the fractional part is discarded, so we always get an integer"
   ]
  },
  {
   "cell_type": "code",
   "execution_count": null,
   "metadata": {},
   "outputs": [],
   "source": [
    "## a % b gives the remainder from dividing a by b (aka modulus)\n",
    "a = 17\n",
    "b = 3\n",
    "print( a,'divided by',b,'is',a//b,'remainder',a%b)"
   ]
  },
  {
   "cell_type": "code",
   "execution_count": null,
   "metadata": {},
   "outputs": [],
   "source": [
    "a=3\n",
    "b=0.1\n",
    "a+b # integer + float = float"
   ]
  },
  {
   "cell_type": "code",
   "execution_count": null,
   "metadata": {},
   "outputs": [],
   "source": [
    "c = 1 + 3j # we can do complex numbers, too\n",
    "print(c, abs(c))\n",
    "type(c)\n"
   ]
  },
  {
   "cell_type": "markdown",
   "metadata": {},
   "source": [
    "# bools and comparisons"
   ]
  },
  {
   "cell_type": "code",
   "execution_count": null,
   "metadata": {},
   "outputs": [],
   "source": [
    "# One equals sign for assignment, two for comparison\n",
    "a = 2\n",
    "b = 4\n",
    "a==b"
   ]
  },
  {
   "cell_type": "code",
   "execution_count": null,
   "metadata": {},
   "outputs": [],
   "source": [
    "c = ( a == b ) # we can store the result of a comparison in a variable of type 'bool'\n",
    "print(c)\n",
    "type(c)"
   ]
  },
  {
   "cell_type": "code",
   "execution_count": null,
   "metadata": {},
   "outputs": [],
   "source": [
    "print ( a > b )  # greater than\n",
    "print ( a <= b ) # less than OR equal to"
   ]
  },
  {
   "cell_type": "markdown",
   "metadata": {},
   "source": [
    "# strings"
   ]
  },
  {
   "cell_type": "code",
   "execution_count": null,
   "metadata": {},
   "outputs": [],
   "source": [
    "s = 'hello'\n",
    "s"
   ]
  },
  {
   "cell_type": "code",
   "execution_count": null,
   "metadata": {},
   "outputs": [],
   "source": [
    "print (s) # print doesn't show the enclosing quotes"
   ]
  },
  {
   "cell_type": "code",
   "execution_count": null,
   "metadata": {},
   "outputs": [],
   "source": [
    "s = \"ain't isn't a word\" # double quotes work fine too and are useful for strings with single quotes\n",
    "print (s)"
   ]
  },
  {
   "cell_type": "code",
   "execution_count": null,
   "metadata": {},
   "outputs": [],
   "source": [
    "s = \"\\\"ain't\\\" isn't a word\" # we can use backslash to escape quotes \n",
    "print(s)\n"
   ]
  },
  {
   "cell_type": "code",
   "execution_count": null,
   "metadata": {},
   "outputs": [],
   "source": [
    "s = \"two-line\\nstring\" # \\n is a newline\n",
    "print (s)"
   ]
  },
  {
   "cell_type": "markdown",
   "metadata": {},
   "source": [
    "Access characters in a string using square braces ([]). **The numbering for indices starts at 0, not 1**. Negative indices count back from the end, with `-1` being the last element."
   ]
  },
  {
   "cell_type": "code",
   "execution_count": null,
   "metadata": {},
   "outputs": [],
   "source": [
    "s='rhino'\n",
    "print ('s[0]=',s[0]) # The print command can take multiple *arguments*\n",
    "print ('s[2]=',s[2])\n",
    "print ('s[-2]=',s[-2])\n",
    "print ('s[-1]=',s[-1])\n"
   ]
  },
  {
   "cell_type": "markdown",
   "metadata": {},
   "source": [
    "Strings can be *sliced* to generate sub-strings:"
   ]
  },
  {
   "cell_type": "code",
   "execution_count": null,
   "metadata": {},
   "outputs": [],
   "source": [
    "s='peter pan'\n",
    "print ( s[0:5] ) # 0 is the start; slice runs from first index up to but not including the second index\n",
    "print ( len( s[2:-1]) ) # len tells us the length of objects like strings\n",
    "print ( s[:5] ) # python assumes a missing first index is 0 (ie slice starts at the beginning)\n",
    "print ( s[6:] ) # a missing second index means go all the way to the end"
   ]
  },
  {
   "cell_type": "markdown",
   "metadata": {},
   "source": [
    "Strings can be *added* and *multiplied*"
   ]
  },
  {
   "cell_type": "code",
   "execution_count": null,
   "metadata": {},
   "outputs": [],
   "source": [
    "'hello'+' goodbye'"
   ]
  },
  {
   "cell_type": "code",
   "execution_count": null,
   "metadata": {},
   "outputs": [],
   "source": [
    "'whoah!'*3"
   ]
  },
  {
   "cell_type": "markdown",
   "metadata": {},
   "source": [
    "Strings are immutable, ie they can't be changed"
   ]
  },
  {
   "cell_type": "code",
   "execution_count": null,
   "metadata": {},
   "outputs": [],
   "source": [
    "s = 'hello'\n",
    "#s[0] = 'j' #this would give an error (try it)"
   ]
  },
  {
   "cell_type": "markdown",
   "metadata": {},
   "source": [
    "If you want to change a string, make a new one"
   ]
  },
  {
   "cell_type": "code",
   "execution_count": null,
   "metadata": {},
   "outputs": [],
   "source": [
    "s = 'hello'\n",
    "print(s)\n",
    "s  = 'j' + s[1:]\n",
    "print(s)"
   ]
  },
  {
   "cell_type": "markdown",
   "metadata": {},
   "source": [
    "# Practice time"
   ]
  },
  {
   "cell_type": "code",
   "execution_count": null,
   "metadata": {},
   "outputs": [],
   "source": [
    "# In one line, create the string 'elephant' by combining slices from the two strings a and b below \n",
    "# Try doing it two different ways, once with and once without negative indices\n",
    "\n",
    "a = 'telephone'\n",
    "b = 'santa'\n",
    "#c = ?"
   ]
  },
  {
   "cell_type": "code",
   "execution_count": null,
   "metadata": {},
   "outputs": [],
   "source": [
    "# In one line, create a boolean variable that will be True if the dna sequence below \n",
    "#  preserves the reading frame when inserted into a transcript\n",
    "#\n",
    "# Use the function len() which returns the length of a string. ie, len('hello') returns the integer 5,\n",
    "#  as well as the % operator introduced above.\n",
    "#\n",
    "dna_seq = 'TTATACGCGACTATCATATCGCCAGCCTTTGGAGTGTCAC'\n",
    "\n",
    "#in_frame = ?\n"
   ]
  },
  {
   "cell_type": "markdown",
   "metadata": {},
   "source": [
    "# lists"
   ]
  },
  {
   "cell_type": "code",
   "execution_count": null,
   "metadata": {},
   "outputs": [],
   "source": [
    "l = [1,2,3,4]\n",
    "print (l)"
   ]
  },
  {
   "cell_type": "markdown",
   "metadata": {},
   "source": [
    "Lists are python objects that have some useful *methods* (functions attached to objects). To see these methods interactively, try creating a list called `l` and typing `l.` and then pressing tab.\n",
    "\n",
    "By doing so you will see, for example, that `l` has a method called `append` which will add things to the end of the list:"
   ]
  },
  {
   "cell_type": "code",
   "execution_count": null,
   "metadata": {},
   "outputs": [],
   "source": [
    "l.append( 5 )\n",
    "l"
   ]
  },
  {
   "cell_type": "markdown",
   "metadata": {},
   "source": [
    "You can get information about a function or object in the notebook by typing `<name>?` and pressing enter. For example, try typing `l.append?` and pressing enter. This will work for functions you write in the future too, provided you write a little help message called a *docstring* at the beginning (more on this later)."
   ]
  },
  {
   "cell_type": "code",
   "execution_count": null,
   "metadata": {},
   "outputs": [],
   "source": [
    "l.append?\n"
   ]
  },
  {
   "cell_type": "markdown",
   "metadata": {},
   "source": [
    "Note that you can also use tab-completion: `l.appe[TAB]` will complete to `l.append`"
   ]
  },
  {
   "cell_type": "markdown",
   "metadata": {},
   "source": [
    "Lists can contain a mixture of types:"
   ]
  },
  {
   "cell_type": "code",
   "execution_count": null,
   "metadata": {},
   "outputs": [],
   "source": [
    "l = [1,2,3,4,5]\n",
    "l.append( 'horse') # like strings\n",
    "print(l)\n",
    "l.append( [11,13,15] ) # or even other lists\n",
    "print(l)"
   ]
  },
  {
   "cell_type": "markdown",
   "metadata": {},
   "source": [
    "Indexing works pretty much the same for lists as for strings (but note that you *can* change elements of a list):"
   ]
  },
  {
   "cell_type": "code",
   "execution_count": null,
   "metadata": {},
   "outputs": [],
   "source": [
    "print('l[0]=',l[0])\n",
    "print('l[-1]=',l[-1])\n",
    "l[2] = 'pony'\n",
    "print('now, l=',l)"
   ]
  },
  {
   "cell_type": "markdown",
   "metadata": {},
   "source": [
    "Another very useful list method is `sort`"
   ]
  },
  {
   "cell_type": "code",
   "execution_count": null,
   "metadata": {},
   "outputs": [],
   "source": [
    "l = [3,2,11,5,10,-15]\n",
    "l.sort()\n",
    "print(l)"
   ]
  },
  {
   "cell_type": "markdown",
   "metadata": {},
   "source": [
    "A useful `string` method is `split` -- it returns a `list` of strings generated by splitting the initial string, by default on whitespace but we can ask it to split on any string"
   ]
  },
  {
   "cell_type": "code",
   "execution_count": null,
   "metadata": {},
   "outputs": [],
   "source": [
    "s = 'hi   there tim' # note multiple spaces between hi and there\n",
    "print(s.split()) # no whitespace in the output strings\n",
    "print(s.split('t'))\n",
    "print(s.split('the'))\n",
    "\n"
   ]
  },
  {
   "cell_type": "markdown",
   "metadata": {},
   "source": [
    "Assignment (e.g., setting `x=y`) doesn't generally make a new copy. Use slicing (`x=y[:]`) or explicit creation of a new object with the object typename (e.g. `x=list(y)`) to create a copy."
   ]
  },
  {
   "cell_type": "code",
   "execution_count": null,
   "metadata": {},
   "outputs": [],
   "source": [
    "a = [1,2,3,4,5]\n",
    "print('a=',a)\n",
    "b = a\n",
    "b[0] = 1000\n",
    "print('b=',b)\n",
    "print('a=',a) # a was changed, too\n",
    "c = a[:] # slicing a list makes a copy\n",
    "c[0] = 0\n",
    "print('c=',c)\n",
    "print('a=',a) # a still the same as before we modified c\n",
    "d = list(a)\n",
    "d[0] = -1\n",
    "print('d=',d)\n",
    "print('a=',a) # a still the same as before we modified d\n",
    "\n"
   ]
  },
  {
   "cell_type": "markdown",
   "metadata": {},
   "source": [
    "# Practice time"
   ]
  },
  {
   "cell_type": "code",
   "execution_count": null,
   "metadata": {},
   "outputs": [],
   "source": [
    "# How many methods like \"append\" does a list have? Create a list and type l.[TAB] and count how many there are. \n",
    "\n",
    "#ans=?"
   ]
  },
  {
   "cell_type": "code",
   "execution_count": null,
   "metadata": {},
   "outputs": [],
   "source": [
    "# Can you find the string method that returns a lower-case copy of the string?\n",
    "#\n",
    "# Again, you can define a string s and then type s.[TAB] to see the method names.\n",
    "# IMPORTANT: Note that this method does not change the starting string. strings are 'immutable' so their\n",
    "# methods will not change them, rather they return new copies. \n",
    "#\n",
    "# This is different from how many of the list methods behave.\n",
    "#"
   ]
  },
  {
   "cell_type": "code",
   "execution_count": null,
   "metadata": {},
   "outputs": [],
   "source": [
    "# What is the difference between list.append() and list.extend()?\n",
    "# First read the help messages for each using, for example, l.append?[ENTER]\n",
    "# Then use trial and error by appending / extending different things onto a list and seeing what happens. \n",
    "# Does extend work with all input types?\n",
    "#"
   ]
  },
  {
   "cell_type": "code",
   "execution_count": null,
   "metadata": {},
   "outputs": [],
   "source": [
    "# Create a new list called l2 which has the same elements as the list l1 below but in decreasing\n",
    "#  order, using two list methods: one we've talked about and one we haven't\n",
    "#\n",
    "# Don't change l1 in the process! This will take a couple lines.\n",
    "\n",
    "l1 = [5, 1, 1, 13, 9, 3, 18, 15, 10, 8, 15, 7, 15, 10, 1, 13, 4, 15, 18, 9, 7, 3, 19, 8, 0, 14, 11, 0, 15, 16]\n",
    "\n",
    "#l2 = ... #\n"
   ]
  },
  {
   "cell_type": "markdown",
   "metadata": {},
   "source": [
    "# flow of control: `for` loops\n",
    "Python has all of the usual control statements for building complicated programs"
   ]
  },
  {
   "cell_type": "code",
   "execution_count": null,
   "metadata": {},
   "outputs": [],
   "source": [
    "#  range(num) gives us a loop from 0 to num-1\n",
    "#  It's kind of like having a list of numbers running from 0 to num-1 (but not exactly the same)\n",
    "\n",
    "product = 1\n",
    "for i in range(20):\n",
    "    print('2 to the',i,'power=',product)\n",
    "    product *= 2\n",
    "    "
   ]
  },
  {
   "cell_type": "code",
   "execution_count": null,
   "metadata": {},
   "outputs": [],
   "source": [
    "# Here we added an assert statement, which is super-important as a debugging tool as you start to write\n",
    "#  more complex programs. assert will halt the execution of the program if the statement that follows is false.\n",
    "#\n",
    "# Also we introduce a more convenient way to get exponents, a**b = a to the power b \n",
    "#\n",
    "\n",
    "product = 1\n",
    "for i in range(20):\n",
    "    print('2 to the',i,'power=',product)\n",
    "    assert product == 2**i # assert is a very very very important and useful debugging statement\n",
    "    product *= 2\n",
    "    "
   ]
  },
  {
   "cell_type": "code",
   "execution_count": null,
   "metadata": {},
   "outputs": [],
   "source": [
    "# What happens when we run this version?\n",
    "\n",
    "product = 1\n",
    "for i in range(20):\n",
    "    product *= 2\n",
    "    print('2 to the',i,'power=',product)\n",
    "    assert product == 2**i # assert is a very very very important and useful debugging statement\n",
    "    "
   ]
  },
  {
   "cell_type": "code",
   "execution_count": null,
   "metadata": {},
   "outputs": [],
   "source": [
    "# The for statement works with strings, lists, and all kids of other python objects as you will see\n",
    "message = 'FRED HUTCH'\n",
    "\n",
    "for letter in message:\n",
    "    print('Give me a/an',letter,'!')"
   ]
  },
  {
   "cell_type": "markdown",
   "metadata": {},
   "source": [
    "# `if` statements"
   ]
  },
  {
   "cell_type": "code",
   "execution_count": null,
   "metadata": {},
   "outputs": [],
   "source": [
    "# if statements let you choose between two (or more) outcomes based on a boolean expression \n",
    "#\n",
    "for i in range(10):\n",
    "    if i%2==0:\n",
    "        print(i,'is even')\n",
    "    else:\n",
    "        print(i,'is odd')\n"
   ]
  },
  {
   "cell_type": "code",
   "execution_count": null,
   "metadata": {},
   "outputs": [],
   "source": [
    "# if statements let you choose between two (or more) outcomes based on a boolean expression \n",
    "#\n",
    "# Notice what happens for 6:\n",
    "#\n",
    "\n",
    "for i in range(10):\n",
    "    if i%2==0:\n",
    "        print(i,'is even')\n",
    "    elif i%3==0:\n",
    "        print(i,'is divisible by 3')\n",
    "    else:\n",
    "        print(i,'is not')\n"
   ]
  },
  {
   "cell_type": "markdown",
   "metadata": {},
   "source": [
    "## the `break` statement gets us out of a loop, while `continue` jumps directly to the next cycle through."
   ]
  },
  {
   "cell_type": "code",
   "execution_count": null,
   "metadata": {},
   "outputs": [],
   "source": [
    "for i in range(1000):\n",
    "    if i == 7:\n",
    "        continue # 7 is a bad number\n",
    "\n",
    "    print('3 to the',i,'power=',3**i)\n",
    "    \n",
    "    if i >= 9: # we don't actually want that much output\n",
    "        break"
   ]
  },
  {
   "cell_type": "markdown",
   "metadata": {},
   "source": [
    "## `for` is an incredible versatile statement: you can loop over almost any kind of object that has multiple items or components\n"
   ]
  },
  {
   "cell_type": "code",
   "execution_count": null,
   "metadata": {},
   "outputs": [],
   "source": [
    "s = 'string'\n",
    "for a in s:\n",
    "    print(a) #try using the optional end= argument\n",
    "    \n",
    "    \n",
    "words = 'the quick brown fox jumps over the lazy dog'.split() # create a list by splitting a string\n",
    "\n",
    "\n",
    "counter=0\n",
    "# we can loop over the elements in a  list\n",
    "for word in words:\n",
    "    print('The',counter,'word is',word)\n",
    "    counter +=1\n",
    "    \n",
    "# we can loop over a range of numbers\n",
    "print('\\nAgain,') # using \\n to add some space\n",
    "for i in range(len(words)):\n",
    "    print('The',i,'word is',words[i])\n",
    "\n",
    "# enumerate allows us to get the index and the element when we loop over a list\n",
    "print('\\nOnce more,')\n",
    "for i,word in enumerate(words): ## NEW FUNCTION: enumerate\n",
    "    print('The',i,'word is',word)\n",
    "    \n",
    "    "
   ]
  },
  {
   "cell_type": "markdown",
   "metadata": {},
   "source": [
    "# `while` loops"
   ]
  },
  {
   "cell_type": "code",
   "execution_count": null,
   "metadata": {},
   "outputs": [],
   "source": [
    "# you can assign two variables at the same time:\n",
    "a, b = 0, 1\n",
    "\n",
    "while a<1000:\n",
    "    print('a=',a)\n",
    "    a, b = b, a+b\n"
   ]
  },
  {
   "cell_type": "markdown",
   "metadata": {},
   "source": [
    "# Practice time"
   ]
  },
  {
   "cell_type": "code",
   "execution_count": null,
   "metadata": {},
   "outputs": [],
   "source": [
    "# Write a little program to generate the list of all the even, non-negative integers less than 100.\n",
    "#\n",
    "# Do this two ways,\n",
    "#  1) by using if, %, and append inside a for loop up to 100\n",
    "#  2) just by using append and a shorter loop (even numbers are all multiples of...)\n",
    "#\n",
    "\n"
   ]
  },
  {
   "cell_type": "code",
   "execution_count": null,
   "metadata": {},
   "outputs": [],
   "source": [
    "# Write a little program to generate the reverse complement of the following nucleotide sequence\n",
    "# Recall that A pairs with T and C pairs with G\n",
    "# \n",
    "forward_dna_seq = 'TTATACGCGACTATCATATCGCCAGCCTTTGGAGTGTCAC'\n",
    "\n"
   ]
  },
  {
   "cell_type": "code",
   "execution_count": null,
   "metadata": {},
   "outputs": [],
   "source": [
    "# Write a little program to generate the list of all the prime numbers less than 100.\n",
    "# Again, % is your friend here. You will probably need to do a for loop inside a for loop!\n",
    "#"
   ]
  },
  {
   "cell_type": "markdown",
   "metadata": {},
   "source": [
    "# Definining new functions"
   ]
  },
  {
   "cell_type": "code",
   "execution_count": null,
   "metadata": {},
   "outputs": [],
   "source": [
    "def update(a,b):\n",
    "    \"\"\"Generate a new element in the sequence based on the last two elements\"\"\"\n",
    "    return a+b\n",
    "\n",
    "a, b = 0, 1\n",
    "\n",
    "while a <= 1000:\n",
    "    print('a=', a)\n",
    "    a, b = b, update(a,b)\n",
    "        \n"
   ]
  },
  {
   "cell_type": "markdown",
   "metadata": {},
   "source": [
    "Functions can have optional arguments whose default values are pre-specified "
   ]
  },
  {
   "cell_type": "code",
   "execution_count": null,
   "metadata": {},
   "outputs": [],
   "source": [
    "def update(a, b, a_factor=1, b_factor=1):\n",
    "    \"\"\"Generate a new element in the sequence based on the last two elements\"\"\"\n",
    "    return a_factor * a + b_factor * b\n",
    "\n",
    "a, b = 0, 1\n",
    "\n",
    "while a <= 100:\n",
    "    print('a=', a)\n",
    "    a, b = b, update(a, b, a_factor=2)\n",
    "        \n"
   ]
  },
  {
   "cell_type": "markdown",
   "metadata": {},
   "source": [
    "Functions can call other functions, even themselves:"
   ]
  },
  {
   "cell_type": "code",
   "execution_count": null,
   "metadata": {},
   "outputs": [],
   "source": [
    "def factorial(n):\n",
    "    \"\"\"Calculate the factorial of a number recursively. Bad things will happen \n",
    "    if the number is negative or not an integer \"\"\"\n",
    "    if n==0:\n",
    "        return 1\n",
    "    else:\n",
    "        return n * factorial(n-1) # this is called \"recursion\"\n",
    "    \n",
    "# the help function prints the docstring\n",
    "help(factorial)\n",
    "\n",
    "for i in range(10):\n",
    "    print(i,'factorial =',factorial(i))"
   ]
  },
  {
   "cell_type": "markdown",
   "metadata": {},
   "source": [
    "Try using `factorial?` and `factorial??` to see the docstring and source of our new function. "
   ]
  },
  {
   "cell_type": "code",
   "execution_count": null,
   "metadata": {},
   "outputs": [],
   "source": [
    "factorial?\n"
   ]
  },
  {
   "cell_type": "markdown",
   "metadata": {},
   "source": [
    "# Using a function in a built-in module\n",
    "\n",
    "Python has an extensive collection of built-in **modules** which contain all sorts of useful special purpose functions and objects. A few favorites:\n",
    "\n",
    "* `math`: mathematical functions and constants\n",
    "* `re`: regular expression searches.\n",
    "* `os`: access to operating system routines (e.g., `os.path.exists` function to check if a file exists)\n",
    "* `csv`: routines for reading/writing delimitted data\n",
    "* `sys`: special variables used or maintained by the interpreter (`sys.path`, `sys.stdout`, `sys.argv`, ...)\n",
    "* `random`: random number generators\n",
    "* `glob`: file-finding functions with wild-cards (like using `*` on the command line)\n",
    "* `pdb`: python debugger\n",
    "* `timeit`: for profiling (timing) code snippets\n",
    "* `tkinter`: python interface to tcl/tk graphics library\n",
    "* `xml`: xml processing modules\n",
    "* `string`: common string operations and constants\n",
    "\n",
    "\n",
    "[The full list is here](https://docs.python.org/3/library/)"
   ]
  },
  {
   "cell_type": "code",
   "execution_count": null,
   "metadata": {},
   "outputs": [],
   "source": [
    "# Here we are \"importing\" a module called math which contains some math-y functions like sqrt and floor\n",
    "import math\n",
    "\n",
    "\n",
    "def is_prime( num ):\n",
    "    \"\"\"Figure out whether num is prime\"\"\"\n",
    "    assert type(num) is int\n",
    "    assert num >= 1\n",
    "    \n",
    "    max_factor = math.floor( math.sqrt( num ) )\n",
    "    #max_factor = num-1\n",
    "    \n",
    "    for i in range(2,max_factor+1):\n",
    "        if num%i == 0:\n",
    "            return False\n",
    "    return True\n",
    "\n",
    "for i in range(1,50):\n",
    "    if is_prime(i):\n",
    "        print(i)\n",
    "        \n",
    "# look at the distribution of primes less than 1000\n",
    "\n",
    "prime_counts_per_100 = [0]*10 # we need 10 bins for this\n",
    "\n",
    "for i in range(1,1000):\n",
    "    if is_prime(i):\n",
    "        counts_bin = i//100\n",
    "        prime_counts_per_100[ counts_bin ] += 1\n",
    "        \n",
    "print( 'prime_counts_per_100:',prime_counts_per_100 )"
   ]
  },
  {
   "cell_type": "code",
   "execution_count": null,
   "metadata": {},
   "outputs": [],
   "source": [
    "## try this to see how long the is_prime function takes (remove the #):\n",
    "# %timeit is_prime(997)"
   ]
  },
  {
   "cell_type": "code",
   "execution_count": null,
   "metadata": {},
   "outputs": [],
   "source": [
    "def is_prime_v2( num, smaller_primes ):\n",
    "    \"\"\"Figure out if num is prime based on the set of smaller primes\"\"\"\n",
    "    max_factor = math.floor( math.sqrt( num ) )\n",
    "    for p in smaller_primes:\n",
    "        if p>max_factor: break\n",
    "        if num%p == 0:\n",
    "            return False\n",
    "    return True\n",
    "\n",
    "\n",
    "# test the prime number theorem which says that the number of primes less than N\n",
    "# asymptotically approaches N/log(N)\n",
    "#\n",
    "\n",
    "primes = []\n",
    "\n",
    "for num in range(2,1000):\n",
    "    if is_prime_v2( num, primes ):\n",
    "        primes.append( num )\n",
    "    if num%100==0:\n",
    "        actual = len(primes)\n",
    "        estimate = num / math.log(num)\n",
    "        ratio = actual / estimate\n",
    "        print( num, actual, estimate, ratio )\n",
    "\n",
    "\n",
    "        \n",
    "            \n"
   ]
  },
  {
   "cell_type": "markdown",
   "metadata": {},
   "source": [
    "# `Dictionaries`\n",
    "Python provides an associative mapping object called a `dictionary` to easily hold key-value pairs. "
   ]
  },
  {
   "cell_type": "code",
   "execution_count": null,
   "metadata": {},
   "outputs": [],
   "source": [
    "base_partner = {'A':'T', 'T':'A', 'C':'G', 'G':'C'}\n",
    "base_partner['A']\n",
    "\n",
    "# we can assign new key,value pairs using [] notation:\n",
    "base_partner['N'] = 'N'\n",
    "\n",
    "print('base_partner=',base_partner)"
   ]
  },
  {
   "cell_type": "code",
   "execution_count": null,
   "metadata": {},
   "outputs": [],
   "source": [
    "num_hbonds = {'A':2,'T':2,'C':3,'G':3}\n",
    "num_hbonds['A']\n"
   ]
  },
  {
   "cell_type": "code",
   "execution_count": null,
   "metadata": {},
   "outputs": [],
   "source": [
    "#num_hbonds['a']  # this gives an error: 'a' is not one of the keys."
   ]
  },
  {
   "cell_type": "code",
   "execution_count": null,
   "metadata": {},
   "outputs": [],
   "source": [
    "base_partner = {'A':'T', 'T':'A', 'C':'G', 'G':'C'}\n",
    "num_hbonds = {'A':2,'T':2,'C':3,'G':3}\n",
    "\n",
    "\n",
    "def reverse_complement( seq ):\n",
    "    \"\"\"returns the reverse complement of a nucleic acid sequence\"\"\"\n",
    "    rseq = ''\n",
    "    for a in reversed( seq ):\n",
    "        rseq += base_partner[a]\n",
    "    return rseq\n",
    "\n",
    "def total_hbonds( seq ):\n",
    "    total=0\n",
    "    for a in seq:\n",
    "        total += num_hbonds[a]\n",
    "    return total\n",
    "\n",
    "fwd = 'ACGGTAATGATCCTCAG'\n",
    "rev = reverse_complement( fwd )\n",
    "\n",
    "print ('fwd=',fwd,'rev=',rev,'num_hbonds=',total_hbonds(fwd))\n",
    "\n",
    "assert total_hbonds(fwd) == total_hbonds(rev)\n"
   ]
  },
  {
   "cell_type": "markdown",
   "metadata": {},
   "source": [
    "We can loop over dictionaries quite easily"
   ]
  },
  {
   "cell_type": "code",
   "execution_count": null,
   "metadata": {},
   "outputs": [],
   "source": [
    "base_partner = {'A':'T', 'T':'A', 'C':'G', 'G':'C'}\n",
    "\n",
    "for a in base_partner:\n",
    "    print( a, 'pairs with', base_partner[a] )\n",
    "    \n",
    "print()\n",
    "\n",
    "# Or this way to get the keys and values at the same time:\n",
    "\n",
    "for a, a_partner in base_partner.items():\n",
    "    print( a, 'pairs with', a_partner )\n",
    "    "
   ]
  },
  {
   "cell_type": "markdown",
   "metadata": {},
   "source": [
    "# `tuples`\n",
    "\n",
    "Dictionary keys can be any *immutable* objects, where immutable objects are ones (like integers, floats, strings) that can't be changed after they are created. So lists are no good. But, there's something called a `tuple` which looks a lot like a list and can be used as a dictionary key, and in lots of other places where multiple items are passed around."
   ]
  },
  {
   "cell_type": "code",
   "execution_count": null,
   "metadata": {},
   "outputs": [],
   "source": [
    "# create a tuple\n",
    "t = (4,5,'a')\n",
    "\n",
    "# create an empty dictionary\n",
    "D = {}\n",
    "\n",
    "# set the value 4 for the key t in the dictionary D\n",
    "D[t] = 4\n",
    "\n",
    "# print stuff\n",
    "print('t=',t)\n",
    "print('D=',D)"
   ]
  },
  {
   "cell_type": "markdown",
   "metadata": {},
   "source": [
    "`tuples` can be **unpacked** by assigning to them a sequence of variables matching their length: "
   ]
  },
  {
   "cell_type": "code",
   "execution_count": null,
   "metadata": {},
   "outputs": [],
   "source": [
    "nums = ( 4, 11, 17 )\n",
    "\n",
    "a,b,c = nums\n",
    "\n",
    "print('nums=',nums)\n",
    "print('a=',a)\n",
    "print('b=',b)\n",
    "print('c=',c)"
   ]
  },
  {
   "cell_type": "markdown",
   "metadata": {},
   "source": [
    "# running shell commands in notebooks and getting the results\n",
    "We can run (most) shell commands from within the notebook by preceding them with `!`"
   ]
  },
  {
   "cell_type": "code",
   "execution_count": null,
   "metadata": {},
   "outputs": [],
   "source": [
    "!ls"
   ]
  },
  {
   "cell_type": "code",
   "execution_count": null,
   "metadata": {},
   "outputs": [],
   "source": [
    "!pwd"
   ]
  },
  {
   "cell_type": "markdown",
   "metadata": {},
   "source": [
    "Even cooler, we can get the results of these commands back in python:"
   ]
  },
  {
   "cell_type": "code",
   "execution_count": null,
   "metadata": {},
   "outputs": [],
   "source": [
    "l = !pwd\n",
    "print(l)\n",
    "print(l[0].split('/'))"
   ]
  },
  {
   "cell_type": "code",
   "execution_count": null,
   "metadata": {},
   "outputs": [],
   "source": [
    "l = !find ../\n",
    "print( len(l), l)"
   ]
  }
 ],
 "metadata": {
  "kernelspec": {
   "display_name": "Python 3",
   "language": "python",
   "name": "Python 3"
  },
  "language_info": {
   "codemirror_mode": {
    "name": "ipython",
    "version": 3
   },
   "file_extension": ".py",
   "mimetype": "text/x-python",
   "name": "python",
   "nbconvert_exporter": "python",
   "pygments_lexer": "ipython3",
   "version": "3.6.6"
  }
 },
 "nbformat": 4,
 "nbformat_minor": 2
}
