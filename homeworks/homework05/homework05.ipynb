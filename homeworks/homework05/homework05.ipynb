{
 "cells": [
  {
   "cell_type": "markdown",
   "metadata": {},
   "source": [
    "# Homework05 (50 points): Parsing a 10x genomics T cell receptor sequencing file\n",
    "\n",
    "The 10x genomics single-cell platform is increasingly being used to study T cells, and they've recently released a kit that combines targeted sequencing of the T cell receptor alpha and beta chains with single-cell mRNA sequencing, which is cool because you get both the T cell receptor sequence and also the gene expression phenotype for each cell.\n",
    "\n",
    "There are some potentially useful code snippets at the end of the notebook.\n",
    "\n",
    "If you are feeling stuck please feel free to email me (pbradley@fredhutch.org) "
   ]
  },
  {
   "cell_type": "code",
   "execution_count": null,
   "metadata": {},
   "outputs": [],
   "source": [
    "# Run this block of code to get started. It will read all the lines in the 10x genomics .csv file\n",
    "# into a long list of strings, with each successive line in the file becoming an entry in the list. \n",
    "#\n",
    "# This file should appear when you update your tfcb_2019 repository\n",
    "filename = 'data/vdj_v1_hs_pbmc_t_consensus_annotations.csv'\n",
    "\n",
    "# open() is a function that opens a file (here for reading, hence 'r') and returns a \"stream\" object\n",
    "# which you can use to read the file. Here we get the stream object and immediately read all the lines\n",
    "# from the stream, in one line of code. Try open?[ENTER] to learn more about the open function.\n",
    "lines = open(filename,'r').readlines()\n",
    "\n",
    "# lines is a list of strings:\n",
    "print(type(lines), type(lines[0]))"
   ]
  },
  {
   "cell_type": "markdown",
   "metadata": {},
   "source": [
    "## Q1 (2 pts). Write a code snippet that prints out how many lines there are in the file and also prints out the first line.   "
   ]
  },
  {
   "cell_type": "code",
   "execution_count": null,
   "metadata": {},
   "outputs": [],
   "source": [
    "# put your code here in this block\n",
    "# You can use the lines variable that was defined up above where we loaded all the lines in the file\n"
   ]
  },
  {
   "cell_type": "markdown",
   "metadata": {},
   "source": [
    "## Q2 (8 pts). The first line in the file is the header, which describes the contents of the different (comma-separated) columns. Write a code snippet that figures out which column (counting from 0) is the `reads` column and stores this in a variable called `reads_column` for use later."
   ]
  },
  {
   "cell_type": "code",
   "execution_count": null,
   "metadata": {},
   "outputs": [],
   "source": [
    "# Do this as follows:\n",
    "#\n",
    "#  1) Get the first line of the file as a string variable, call it 'header' (or whatever). To do this you just\n",
    "#      need to index into the lines list at the right place.\n",
    "#\n",
    "#  2) Get a list of the fields in header by using the method header.split(<sep>) where <sep> is the \n",
    "#      string you want to split on (the 'separator'). What is the field separator for this file?\n",
    "#      Call the list of strings that you get 'fields' (or whatever)\n",
    "#\n",
    "#  3) Now that you have the fields as a list of strings, you can use the list method \"index\" to find\n",
    "#      index of the one you want. i.e., fields.index(<fieldname>) where <fieldname> is the field you want\n",
    "#      (as a string).\n",
    "#"
   ]
  },
  {
   "cell_type": "markdown",
   "metadata": {},
   "source": [
    "## Q3 (20 pts). Use a `for` loop over the `lines` list to find the line with the highest value for the `reads` column and store the value of the `cdr3_nt` column for this line in a variable called `topseq`. \n",
    "\n",
    "This will find the nucleotide sequence corresponding to the CDR3 region of the TCR chain with the highest read count."
   ]
  },
  {
   "cell_type": "code",
   "execution_count": null,
   "metadata": {},
   "outputs": [],
   "source": [
    "# You'll need to use a for loop over the lines list to get each line in turn. \n",
    "#\n",
    "# For each individual line you can use the same \"line.split(<sep>)\" approach we used above\n",
    "# in order to split the line into the component fields. Then you can use the reads_column variable\n",
    "# to grab the reads field and convert the value from a string to an integer.\n",
    "#\n",
    "# How to figure out which is the line with the highest read count? Maybe if you created a\n",
    "# variable that recorded the highest read count seen so far...\n",
    "#"
   ]
  },
  {
   "cell_type": "markdown",
   "metadata": {},
   "source": [
    "## Q4 (20 pts). Write a code snippet that will find all the lines in the file that have the same `cdr3_nt` entry as the line with the most reads (ie for which `cdr3_nt` is equal to the `topseq` variable that you found above) and print out their `clonotype_id`s, where `clonotype_id` is another one of the columns in the file.   \n",
    "\n",
    "This is useful because exact sharing of nucleotide sequences between TCRs is pretty rare, so given the modest number of TCR sequences in this file, it's likely that these multiple occurrences represent some kind of contamination. This contamination is often associated with high-read sequences like this one."
   ]
  },
  {
   "cell_type": "code",
   "execution_count": null,
   "metadata": {},
   "outputs": [],
   "source": [
    "# You could print out the header line to figure out which column corresponds to clonotype_id.\n",
    "#"
   ]
  },
  {
   "cell_type": "markdown",
   "metadata": {},
   "source": [
    "## Extra credit challenge question: find all examples of duplicated `cdr3_nt` (CDR3 nucleotide sequences) like the ones you found in Q4. Which CDR3 nucleotide sequence occurs in the greatest number of lines?  \n",
    "\n",
    "If you get this right you get an automatic A for the course and don't have to do any more homeworks or the final project. (If Rasi and Kate agree ;-)."
   ]
  },
  {
   "cell_type": "code",
   "execution_count": null,
   "metadata": {},
   "outputs": [],
   "source": []
  },
  {
   "cell_type": "markdown",
   "metadata": {},
   "source": [
    "# Potentially useful code snippets"
   ]
  },
  {
   "cell_type": "code",
   "execution_count": null,
   "metadata": {},
   "outputs": [],
   "source": [
    "# this code loops over the lines in the file and finds the ones with 'clonotype7' in the first column:\n",
    "\n",
    "desired_clonotype_id = 'clonotype7'\n",
    "\n",
    "for line in lines:\n",
    "    l = line.split(',')\n",
    "    if l[0] == desired_clonotype_id:\n",
    "        print(line[:-1]) # get rid of the newline at the end of the line"
   ]
  },
  {
   "cell_type": "code",
   "execution_count": null,
   "metadata": {},
   "outputs": [],
   "source": [
    "# this code prints out all the lines with at a value of 50 or more in the umis column\n",
    "\n",
    "min_umis = 50\n",
    "\n",
    "num_lines_found = 0\n",
    "for line in lines[1:]: # why do we start at 1? what happens if you change it to 0 or remove the [1:] entirely?\n",
    "    \n",
    "    l = line[:-1].split(',') # why do we need to do line[:-1] here?\n",
    "    \n",
    "    umis = int(l[-1]) # this is how we convert from a string to an integer. Why are we taking field -1?\n",
    "    if umis >= min_umis:\n",
    "        num_lines_found += 1\n",
    "        print(line[:-1]) # again get rid of the newline at the end for printing\n",
    "        \n",
    "print('\\nFound',num_lines_found,'lines with umis >=',min_umis)"
   ]
  }
 ],
 "metadata": {
  "kernelspec": {
   "display_name": "Python 3",
   "language": "python",
   "name": "Python 3"
  },
  "language_info": {
   "codemirror_mode": {
    "name": "ipython",
    "version": 3
   },
   "file_extension": ".py",
   "mimetype": "text/x-python",
   "name": "python",
   "nbconvert_exporter": "python",
   "pygments_lexer": "ipython3",
   "version": "3.6.6"
  }
 },
 "nbformat": 4,
 "nbformat_minor": 2
}
